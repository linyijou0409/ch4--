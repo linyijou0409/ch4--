{
 "cells": [
  {
   "cell_type": "code",
   "execution_count": 1,
   "metadata": {},
   "outputs": [
    {
     "name": "stdout",
     "output_type": "stream",
     "text": [
      "Enter the quantity of side:5\n",
      "Enter the number:6.5\n",
      "72.69017017488385\n"
     ]
    }
   ],
   "source": [
    "import math\n",
    "n=eval(input(\"Enter the quantity of side:\"))\n",
    "s=eval(input(\"Enter the number:\"))\n",
    "area=(n*(s**2))/(4*math.tan(math.pi/n))\n",
    "print(area)"
   ]
  },
  {
   "cell_type": "code",
   "execution_count": 2,
   "metadata": {},
   "outputs": [
    {
     "name": "stdout",
     "output_type": "stream",
     "text": [
      "Enter the number:2,1\n",
      "Enter the number:5.5,8\n",
      "7.826237921249264\n"
     ]
    }
   ],
   "source": [
    "x1,y1=eval(input('Enter the number:'))\n",
    "x2,y2=eval(input('Enter the number:'))\n",
    "dist=(pow((x1-x2),2)+pow((y1-y2),2))**0.5\n",
    "print(dist)"
   ]
  },
  {
   "cell_type": "code",
   "execution_count": 3,
   "metadata": {},
   "outputs": [
    {
     "name": "stdout",
     "output_type": "stream",
     "text": [
      "Enter the number:3,4,5\n",
      "6.0\n"
     ]
    }
   ],
   "source": [
    "a,b,c=eval(input('Enter the number:'))\n",
    "s=(a+b+c)/2\n",
    "area=(s*(s-a)*(s-b)*(s-c))**0.5\n",
    "print(area)"
   ]
  },
  {
   "cell_type": "code",
   "execution_count": 4,
   "metadata": {},
   "outputs": [
    {
     "name": "stdout",
     "output_type": "stream",
     "text": [
      "Enter the number:1,4,4\n",
      "(-2.0, 2.0)\n"
     ]
    }
   ],
   "source": [
    "a,b,c=eval(input(\"Enter the number:\"))\n",
    "D=(b**2)-(4*a*c)\n",
    "x=((-b+D**0.5)/2*a),((b+D**0.5)/2*a)\n",
    "print(x)"
   ]
  },
  {
   "cell_type": "code",
   "execution_count": 5,
   "metadata": {},
   "outputs": [
    {
     "name": "stdout",
     "output_type": "stream",
     "text": [
      "longitude,latitude:-116.26,39.5\n",
      "longitude,latitude:87.37,41.5\n",
      "num:6371.01\n",
      "7845.7444467812975\n"
     ]
    }
   ],
   "source": [
    "x1,y1=eval(input(\"longitude,latitude:\"))\n",
    "x2,y2=eval(input(\"longitude,latitude:\"))\n",
    "r=eval(input(\"num:\"))\n",
    "import math\n",
    "d=r*math.acos(math.sin(x1)*math.sin(x2)+math.cos(x1)*math.cos(x2)*math.cos(y1-y2))\n",
    "print(d)"
   ]
  },
  {
   "cell_type": "code",
   "execution_count": null,
   "metadata": {},
   "outputs": [],
   "source": []
  }
 ],
 "metadata": {
  "kernelspec": {
   "display_name": "Python 3",
   "language": "python",
   "name": "python3"
  },
  "language_info": {
   "codemirror_mode": {
    "name": "ipython",
    "version": 3
   },
   "file_extension": ".py",
   "mimetype": "text/x-python",
   "name": "python",
   "nbconvert_exporter": "python",
   "pygments_lexer": "ipython3",
   "version": "3.8.5"
  }
 },
 "nbformat": 4,
 "nbformat_minor": 4
}
